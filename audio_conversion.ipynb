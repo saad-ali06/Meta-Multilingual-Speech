{
 "cells": [
  {
   "cell_type": "code",
   "execution_count": 1,
   "metadata": {},
   "outputs": [
    {
     "name": "stdout",
     "output_type": "stream",
     "text": [
      "File converted and saved as ./Kurdish Fairy Tales.wav\n"
     ]
    }
   ],
   "source": [
    "import mimetypes\n",
    "import os\n",
    "from pydub import AudioSegment\n",
    "\n",
    "def is_audio_file(file_path):\n",
    "    # Guess the mime type of the file\n",
    "    mime_type, _ = mimetypes.guess_type(file_path)\n",
    "    # Check if the mime type is audio\n",
    "    return mime_type and mime_type.startswith('audio')\n",
    "\n",
    "def convert_to_wav(file_path, output_dir):\n",
    "    if not is_audio_file(file_path):\n",
    "        print(f\"{file_path} is not an audio file.\")\n",
    "        return\n",
    "\n",
    "    # Extract the file name without extension\n",
    "    base_name = os.path.splitext(os.path.basename(file_path))[0]\n",
    "    # Define the output file path\n",
    "    output_path = os.path.join(output_dir, f\"{base_name}.wav\")\n",
    "\n",
    "    try:\n",
    "        # Load the audio file\n",
    "        audio = AudioSegment.from_file(file_path)\n",
    "        # Export the audio file in WAV format\n",
    "        audio.export(output_path, format='wav')\n",
    "        print(f\"File converted and saved as {output_path}\")\n",
    "    except Exception as e:\n",
    "        print(f\"An error occurred: {e}\")\n",
    "\n",
    "# Example usage\n",
    "input_file = \"Kurdish Fairy Tales.mp3\"  # replace with your file path\n",
    "output_directory = \"./\"  # replace with your desired output directory\n",
    "convert_to_wav(input_file, output_directory)\n"
   ]
  }
 ],
 "metadata": {
  "kernelspec": {
   "display_name": ".venv",
   "language": "python",
   "name": "python3"
  },
  "language_info": {
   "codemirror_mode": {
    "name": "ipython",
    "version": 3
   },
   "file_extension": ".py",
   "mimetype": "text/x-python",
   "name": "python",
   "nbconvert_exporter": "python",
   "pygments_lexer": "ipython3",
   "version": "3.8.10"
  }
 },
 "nbformat": 4,
 "nbformat_minor": 2
}
